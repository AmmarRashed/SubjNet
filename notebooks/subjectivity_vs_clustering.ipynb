{
 "cells": [
  {
   "cell_type": "code",
   "execution_count": 1,
   "metadata": {},
   "outputs": [],
   "source": [
    "import sys\n",
    "sys.path.append(\"../src\")\n",
    "\n",
    "from Utils import *"
   ]
  },
  {
   "cell_type": "code",
   "execution_count": 2,
   "metadata": {},
   "outputs": [],
   "source": [
    "with open('../snaps/reddit.json', 'r') as f:\n",
    "    data = json.load(f)\n",
    "    nxg = json_graph.node_link_graph(data, directed=True)"
   ]
  },
  {
   "cell_type": "code",
   "execution_count": 23,
   "metadata": {},
   "outputs": [],
   "source": [
    "# samples = Parallel(n_jobs=-1)(delayed(random_walk)(nxg, 3) for i in range(100))\n",
    "# with open(\"../data/samples.pkl\", \"wb\") as f:\n",
    "#     pickle.dump(samples, f)"
   ]
  },
  {
   "cell_type": "code",
   "execution_count": 6,
   "metadata": {},
   "outputs": [],
   "source": [
    "with open(\"../data/samples.pkl\", \"rb\") as f:\n",
    "    samples = pickle.load(f)"
   ]
  },
  {
   "cell_type": "markdown",
   "metadata": {},
   "source": [
    "### Hypothesis: Homophilous groups tend to display higher level of subjectivity than heterophilous groups"
   ]
  },
  {
   "cell_type": "code",
   "execution_count": 34,
   "metadata": {},
   "outputs": [],
   "source": [
    "jac_clusts = Parallel(n_jobs=-1)(delayed(get_avg_metric)(nxg, \"jac_clustering coeff\", s.nodes) for s in samples)\n",
    "bgr_clusts = Parallel(n_jobs=-1)(delayed(get_avg_metric)(nxg, \"bgr_clustering coeff\", s.nodes) for s in samples)\n",
    "w_clusts = Parallel(n_jobs=-1)(delayed(get_avg_metric)(nxg, \"w_clustering coeff\", s.nodes) for s in samples)"
   ]
  },
  {
   "cell_type": "code",
   "execution_count": 5,
   "metadata": {},
   "outputs": [],
   "source": [
    "subjs = Parallel(n_jobs=-1)(delayed(get_avg_metric)(nxg, \"subjectivity\", s.nodes) for s in samples)"
   ]
  },
  {
   "cell_type": "code",
   "execution_count": 9,
   "metadata": {},
   "outputs": [
    {
     "name": "stdout",
     "output_type": "stream",
     "text": [
      "min: 25\n",
      "max: 434\n",
      "mean: 233.92\n",
      "std: 130.865708266\n"
     ]
    }
   ],
   "source": [
    "stats([len(i.nodes) for i in samples])"
   ]
  },
  {
   "cell_type": "code",
   "execution_count": 35,
   "metadata": {},
   "outputs": [
    {
     "name": "stdout",
     "output_type": "stream",
     "text": [
      "min: 0.00388614485025\n",
      "max: 0.0824705127066\n",
      "mean: 0.0396588080852\n",
      "std: 0.027273470252\n",
      "r: 0.823708249335\tp: 6.91180413613e-26\n"
     ]
    }
   ],
   "source": [
    "stats(bgr_clusts, subjs)"
   ]
  },
  {
   "cell_type": "code",
   "execution_count": 36,
   "metadata": {},
   "outputs": [
    {
     "name": "stdout",
     "output_type": "stream",
     "text": [
      "min: 0.00132846355969\n",
      "max: 0.0345356894949\n",
      "mean: 0.0175500697927\n",
      "std: 0.0108735822564\n",
      "r: 0.853723863217\tp: 1.58492250056e-29\n"
     ]
    }
   ],
   "source": [
    "stats(jac_clusts, subjs)"
   ]
  },
  {
   "cell_type": "code",
   "execution_count": 37,
   "metadata": {},
   "outputs": [
    {
     "name": "stdout",
     "output_type": "stream",
     "text": [
      "min: 0.000132669028496\n",
      "max: 0.00354694262224\n",
      "mean: 0.00175624465986\n",
      "std: 0.00116170530168\n",
      "r: 0.842988848161\tp: 3.88019234985e-28\n"
     ]
    }
   ],
   "source": [
    "stats(w_clusts, subjs)"
   ]
  }
 ],
 "metadata": {
  "kernelspec": {
   "display_name": "Python 2",
   "language": "python",
   "name": "python2"
  },
  "language_info": {
   "codemirror_mode": {
    "name": "ipython",
    "version": 2
   },
   "file_extension": ".py",
   "mimetype": "text/x-python",
   "name": "python",
   "nbconvert_exporter": "python",
   "pygments_lexer": "ipython2",
   "version": "2.7.15rc1"
  }
 },
 "nbformat": 4,
 "nbformat_minor": 2
}
