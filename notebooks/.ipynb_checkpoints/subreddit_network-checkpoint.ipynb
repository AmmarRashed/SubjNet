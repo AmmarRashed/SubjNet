{
 "cells": [
  {
   "cell_type": "code",
   "execution_count": 2,
   "metadata": {},
   "outputs": [],
   "source": [
    "import sys\n",
    "sys.path.append(\"../src\")"
   ]
  },
  {
   "cell_type": "code",
   "execution_count": 3,
   "metadata": {},
   "outputs": [],
   "source": [
    "from IPython.display import display, HTML\n",
    "from Utils import *"
   ]
  },
  {
   "cell_type": "code",
   "execution_count": 4,
   "metadata": {},
   "outputs": [],
   "source": [
    "rnu = RedditNetworkUtils()"
   ]
  },
  {
   "cell_type": "code",
   "execution_count": 5,
   "metadata": {},
   "outputs": [],
   "source": [
    "users_similarity = rnu.calculate_users_similarity(\"../data/RC_2013-02\", maxsize=1e3)"
   ]
  },
  {
   "cell_type": "code",
   "execution_count": 7,
   "metadata": {
    "scrolled": true
   },
   "outputs": [
    {
     "name": "stdout",
     "output_type": "stream",
     "text": [
      "0.0373798504806\n",
      "0.0120844811754\n",
      "0.0120844811754\n",
      "0.0120844811754\n",
      "0.0120844811754\n",
      "0.0784\n",
      "0.0120844811754\n",
      "0.0677764565993\n",
      "0.0120844811754\n",
      "0.167545710267\n",
      "0.0373798504806\n",
      "0.0373798504806\n"
     ]
    }
   ],
   "source": [
    "for i, (us, sim) in enumerate(users_similarity.items()):\n",
    "    print(sim)\n",
    "    if i > 10:\n",
    "        break"
   ]
  },
  {
   "cell_type": "code",
   "execution_count": 10,
   "metadata": {},
   "outputs": [],
   "source": [
    "for n in rnu.ntw.nodes():\n",
    "    print(rnu.ntw.nodes[n])\n",
    "    break"
   ]
  },
  {
   "cell_type": "code",
   "execution_count": null,
   "metadata": {},
   "outputs": [],
   "source": [
    "s1 = textblob.TextBlob(\"Egypt is the worst country in the world\").sentiment\n",
    "s1.polarity, s1.subjectivity"
   ]
  },
  {
   "cell_type": "code",
   "execution_count": null,
   "metadata": {},
   "outputs": [],
   "source": [
    "s2 = textblob.TextBlob(\"Egypt is the oldest country in the world\").sentiment\n",
    "s2.polarity, s2.subjectivity"
   ]
  }
 ],
 "metadata": {
  "kernelspec": {
   "display_name": "Python 2",
   "language": "python",
   "name": "python2"
  },
  "language_info": {
   "codemirror_mode": {
    "name": "ipython",
    "version": 2
   },
   "file_extension": ".py",
   "mimetype": "text/x-python",
   "name": "python",
   "nbconvert_exporter": "python",
   "pygments_lexer": "ipython2",
   "version": "2.7.15rc1"
  }
 },
 "nbformat": 4,
 "nbformat_minor": 2
}
