{
 "cells": [
  {
   "cell_type": "code",
   "execution_count": 1,
   "metadata": {},
   "outputs": [],
   "source": [
    "import sys\n",
    "sys.path.append(\"../src\")\n",
    "from Utils import *"
   ]
  },
  {
   "cell_type": "code",
   "execution_count": 2,
   "metadata": {},
   "outputs": [],
   "source": [
    "%matplotlib inline"
   ]
  },
  {
   "cell_type": "markdown",
   "metadata": {},
   "source": [
    "$$p(e_a|u_i)=\\frac{\\text{# posts by }u_i\\text{ in } e_a}{\\text{# posts by } u_i}$$\n",
    "\n",
    "<br>\n",
    "\n",
    "$$p(u_i|e_a)=\\frac{\\text{# posts by }u_i\\text{ in } e_a}{\\text{# posts in } e_a}$$\n",
    "\n",
    "<br>\n",
    "\n",
    "$$\\textbf{MLE Similarity}=p(u_i|u_j) = 1-\\prod_{\\forall u_i, u_j \\in users, \\forall e \\in elements} (1-\n",
    "p(e|u_j)p(u_i|e))$$\n",
    "\n",
    "<br>\n",
    "<br>\n",
    "\n",
    "$$E(u) = \\text{# links by user }u$$\n",
    "<br>\n",
    "$$\\textbf{Jaccard Similarity}=J(u_i|u_j) = \\frac{E(u_i) \\cap E(u_j)}{E(u_i) \\cup E(u_j)}$$"
   ]
  },
  {
   "cell_type": "code",
   "execution_count": 3,
   "metadata": {},
   "outputs": [
    {
     "name": "stderr",
     "output_type": "stream",
     "text": [
      "../src/Utils.py:139: UserWarning: Similarities are not normalized. Make sure to normalize MLE as 1-Sm, and Jaccard as Sj/Union\n",
      "  warn(\"Similarities are not normalized. Make sure to normalize MLE as 1-Sm, and Jaccard as Sj/Union\")\n"
     ]
    }
   ],
   "source": [
    "max_size = 1e3\n",
    "filename = \"../data/RC_2013-02\"\n",
    "mle_similarities, jaccard_similarities, users_sentiments = get_users_similarity(filename, max_size)"
   ]
  },
  {
   "cell_type": "code",
   "execution_count": 4,
   "metadata": {},
   "outputs": [
    {
     "name": "stdout",
     "output_type": "stream",
     "text": [
      "MLE-based Network\n",
      "160 nodes\n",
      "126 edges\n"
     ]
    }
   ],
   "source": [
    "print(\"MLE-based Network\")\n",
    "mle_g = construct_mle_network(mle_similarities, 0.3, users_sentiments)"
   ]
  },
  {
   "cell_type": "code",
   "execution_count": 5,
   "metadata": {},
   "outputs": [
    {
     "name": "stdout",
     "output_type": "stream",
     "text": [
      "Jaccard-based Network\n",
      "284 nodes\n",
      "997 edges\n"
     ]
    }
   ],
   "source": [
    "print(\"Jaccard-based Network\")\n",
    "jac_g = construct_jaccard_network(jaccard_similarities, 2, users_sentiments)"
   ]
  },
  {
   "cell_type": "code",
   "execution_count": 6,
   "metadata": {},
   "outputs": [
    {
     "name": "stdout",
     "output_type": "stream",
     "text": [
      "There are 52 components\n",
      "46 (28.75%) nodes\t\t51 (40.48%) edges\n",
      "3 (1.88%) nodes\t\t3 (2.38%) edges\n",
      "3 (1.88%) nodes\t\t3 (2.38%) edges\n",
      "3 (1.88%) nodes\t\t3 (2.38%) edges\n",
      "3 (1.88%) nodes\t\t3 (2.38%) edges\n",
      "Diameter: 2\n",
      "Transitivity: 0.0179640718563\n",
      "Modularity -0.000192233756248\n",
      "Communities: 2\n"
     ]
    }
   ],
   "source": [
    "mle_G = get_biggest_component(mle_g, )\n",
    "\n",
    "del mle_g\n",
    "\n",
    "mle_G = augment_nodes(mle_G)"
   ]
  },
  {
   "cell_type": "code",
   "execution_count": 7,
   "metadata": {},
   "outputs": [
    {
     "name": "stdout",
     "output_type": "stream",
     "text": [
      "There are 56 components\n",
      "136 (47.89%) nodes\t\t778 (78.03%) edges\n",
      "13 (4.58%) nodes\t\t78 (7.82%) edges\n",
      "8 (2.82%) nodes\t\t28 (2.81%) edges\n",
      "8 (2.82%) nodes\t\t28 (2.81%) edges\n",
      "5 (1.76%) nodes\t\t10 (1.0%) edges\n",
      "Diameter: 2\n",
      "Transitivity: 0.585311682543\n",
      "Modularity 0.591734623747\n",
      "Communities: 39\n"
     ]
    }
   ],
   "source": [
    "jac_G = get_biggest_component(jac_g)\n",
    "\n",
    "del jac_g\n",
    "\n",
    "jac_G = augment_nodes(jac_G)"
   ]
  },
  {
   "cell_type": "code",
   "execution_count": 8,
   "metadata": {},
   "outputs": [
    {
     "name": "stdout",
     "output_type": "stream",
     "text": [
      "('polarity', 0.0)\n",
      "('clustering coeff', 0)\n",
      "('degree', 1)\n",
      "('gn_com', 1)\n",
      "('closeness', 0.5056179775280899)\n",
      "('betweenness', 0.0)\n",
      "('subjectivity', 0.0)\n",
      "('eigenvector', 0.10180097084476575)\n"
     ]
    }
   ],
   "source": [
    "for n, data in mle_G.nodes(data=True):\n",
    "    for k, v in data.items():\n",
    "        print(k, v)\n",
    "    break"
   ]
  }
 ],
 "metadata": {
  "kernelspec": {
   "display_name": "Python 2",
   "language": "python",
   "name": "python2"
  },
  "language_info": {
   "codemirror_mode": {
    "name": "ipython",
    "version": 2
   },
   "file_extension": ".py",
   "mimetype": "text/x-python",
   "name": "python",
   "nbconvert_exporter": "python",
   "pygments_lexer": "ipython2",
   "version": "2.7.15rc1"
  }
 },
 "nbformat": 4,
 "nbformat_minor": 2
}
