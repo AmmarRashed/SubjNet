{
 "cells": [
  {
   "cell_type": "code",
   "execution_count": 1,
   "metadata": {},
   "outputs": [],
   "source": [
    "import sys\n",
    "sys.path.append(\"../src\")"
   ]
  },
  {
   "cell_type": "code",
   "execution_count": 2,
   "metadata": {},
   "outputs": [],
   "source": [
    "from IPython.display import display, HTML\n",
    "from Utils import *"
   ]
  },
  {
   "cell_type": "code",
   "execution_count": 3,
   "metadata": {},
   "outputs": [
    {
     "data": {
      "text/html": [
       "<div>\n",
       "<style scoped>\n",
       "    .dataframe tbody tr th:only-of-type {\n",
       "        vertical-align: middle;\n",
       "    }\n",
       "\n",
       "    .dataframe tbody tr th {\n",
       "        vertical-align: top;\n",
       "    }\n",
       "\n",
       "    .dataframe thead th {\n",
       "        text-align: right;\n",
       "    }\n",
       "</style>\n",
       "<table border=\"1\" class=\"dataframe\">\n",
       "  <thead>\n",
       "    <tr style=\"text-align: right;\">\n",
       "      <th></th>\n",
       "      <th>0</th>\n",
       "    </tr>\n",
       "  </thead>\n",
       "  <tbody>\n",
       "    <tr>\n",
       "      <th>archived</th>\n",
       "      <td>True</td>\n",
       "    </tr>\n",
       "    <tr>\n",
       "      <th>author</th>\n",
       "      <td>FDPD37</td>\n",
       "    </tr>\n",
       "    <tr>\n",
       "      <th>author_flair_css_class</th>\n",
       "      <td>None</td>\n",
       "    </tr>\n",
       "    <tr>\n",
       "      <th>author_flair_text</th>\n",
       "      <td>None</td>\n",
       "    </tr>\n",
       "    <tr>\n",
       "      <th>body</th>\n",
       "      <td>Well, for twelve she can draw pretty good</td>\n",
       "    </tr>\n",
       "    <tr>\n",
       "      <th>controversiality</th>\n",
       "      <td>0</td>\n",
       "    </tr>\n",
       "    <tr>\n",
       "      <th>created_utc</th>\n",
       "      <td>1359676800</td>\n",
       "    </tr>\n",
       "    <tr>\n",
       "      <th>distinguished</th>\n",
       "      <td>None</td>\n",
       "    </tr>\n",
       "    <tr>\n",
       "      <th>downs</th>\n",
       "      <td>0</td>\n",
       "    </tr>\n",
       "    <tr>\n",
       "      <th>edited</th>\n",
       "      <td>False</td>\n",
       "    </tr>\n",
       "    <tr>\n",
       "      <th>gilded</th>\n",
       "      <td>0</td>\n",
       "    </tr>\n",
       "    <tr>\n",
       "      <th>id</th>\n",
       "      <td>c8772x8</td>\n",
       "    </tr>\n",
       "    <tr>\n",
       "      <th>link_id</th>\n",
       "      <td>t3_17nftr</td>\n",
       "    </tr>\n",
       "    <tr>\n",
       "      <th>name</th>\n",
       "      <td>t1_c8772x8</td>\n",
       "    </tr>\n",
       "    <tr>\n",
       "      <th>parent_id</th>\n",
       "      <td>t3_17nftr</td>\n",
       "    </tr>\n",
       "    <tr>\n",
       "      <th>retrieved_on</th>\n",
       "      <td>1431145437</td>\n",
       "    </tr>\n",
       "    <tr>\n",
       "      <th>score</th>\n",
       "      <td>2</td>\n",
       "    </tr>\n",
       "    <tr>\n",
       "      <th>score_hidden</th>\n",
       "      <td>False</td>\n",
       "    </tr>\n",
       "    <tr>\n",
       "      <th>subreddit</th>\n",
       "      <td>WTF</td>\n",
       "    </tr>\n",
       "    <tr>\n",
       "      <th>subreddit_id</th>\n",
       "      <td>t5_2qh61</td>\n",
       "    </tr>\n",
       "    <tr>\n",
       "      <th>ups</th>\n",
       "      <td>2</td>\n",
       "    </tr>\n",
       "  </tbody>\n",
       "</table>\n",
       "</div>"
      ],
      "text/plain": [
       "                                                                0\n",
       "archived                                                     True\n",
       "author                                                     FDPD37\n",
       "author_flair_css_class                                       None\n",
       "author_flair_text                                            None\n",
       "body                    Well, for twelve she can draw pretty good\n",
       "controversiality                                                0\n",
       "created_utc                                            1359676800\n",
       "distinguished                                                None\n",
       "downs                                                           0\n",
       "edited                                                      False\n",
       "gilded                                                          0\n",
       "id                                                        c8772x8\n",
       "link_id                                                 t3_17nftr\n",
       "name                                                   t1_c8772x8\n",
       "parent_id                                               t3_17nftr\n",
       "retrieved_on                                           1431145437\n",
       "score                                                           2\n",
       "score_hidden                                                False\n",
       "subreddit                                                     WTF\n",
       "subreddit_id                                             t5_2qh61\n",
       "ups                                                             2"
      ]
     },
     "execution_count": 3,
     "metadata": {},
     "output_type": "execute_result"
    }
   ],
   "source": [
    "comments = read_comments(\"../data/RC_2013-02\", maxsize=1)\n",
    "comments2df(comments, first_k=1, columns=None).T"
   ]
  },
  {
   "cell_type": "code",
   "execution_count": null,
   "metadata": {},
   "outputs": [],
   "source": [
    "s1 = textblob.TextBlob(\"Egypt is the worst country in the world\").sentiment\n",
    "s1.polarity, s1.subjectivity"
   ]
  },
  {
   "cell_type": "code",
   "execution_count": null,
   "metadata": {},
   "outputs": [],
   "source": [
    "s2 = textblob.TextBlob(\"Egypt is the oldest country in the world\").sentiment\n",
    "s2.polarity, s2.subjectivity"
   ]
  }
 ],
 "metadata": {
  "kernelspec": {
   "display_name": "Python 2",
   "language": "python",
   "name": "python2"
  },
  "language_info": {
   "codemirror_mode": {
    "name": "ipython",
    "version": 2
   },
   "file_extension": ".py",
   "mimetype": "text/x-python",
   "name": "python",
   "nbconvert_exporter": "python",
   "pygments_lexer": "ipython2",
   "version": "2.7.15rc1"
  }
 },
 "nbformat": 4,
 "nbformat_minor": 2
}
