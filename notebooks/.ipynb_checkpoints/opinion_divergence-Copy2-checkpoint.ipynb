{
 "cells": [
  {
   "cell_type": "code",
   "execution_count": 1,
   "metadata": {},
   "outputs": [],
   "source": [
    "import sys\n",
    "sys.path.append(\"../src\")\n",
    "\n",
    "from Utils import *"
   ]
  },
  {
   "cell_type": "markdown",
   "metadata": {},
   "source": [
    "### Future work:\n",
    "- Construct the network for a single subreddit\n",
    "- Analyze the propagation of \"polarity\""
   ]
  },
  {
   "cell_type": "code",
   "execution_count": 2,
   "metadata": {},
   "outputs": [],
   "source": [
    "with open('../snaps/reddit.json', 'r') as f:\n",
    "    data = json.load(f)\n",
    "    nxg = json_graph.node_link_graph(data, directed=True)"
   ]
  },
  {
   "cell_type": "code",
   "execution_count": 3,
   "metadata": {},
   "outputs": [],
   "source": [
    "ps = [0.01, 0.05, 0.1]\n",
    "propagators = [\"random 0.3\", \"w\", \"jac\", \"bgr\"]\n",
    "T = 30"
   ]
  },
  {
   "cell_type": "code",
   "execution_count": null,
   "metadata": {},
   "outputs": [
    {
     "name": "stdout",
     "output_type": "stream",
     "text": [
      "P: 0.01\n",
      "----------------------------------------\n",
      "Propagating with: random 0.3\n"
     ]
    }
   ],
   "source": [
    "results = biased_assimilation_analysis(nxg, ps, propagators, T)\n",
    "\n",
    "with open(\"../results\", \"wb\") as f:\n",
    "    pickle.dump(results, f)"
   ]
  },
  {
   "cell_type": "code",
   "execution_count": null,
   "metadata": {},
   "outputs": [],
   "source": [
    "def plot_results(results):\n",
    "    for p, propagators in results.items():\n",
    "        for propagator, metrics in propagators.items():\n",
    "            fig, ax = plt.subplots(figsize=(12, 7))\n",
    "            ax.set_title(\"Propagating with {0}, $p={1}$\".format(propagator, p))\n",
    "            legend = list()\n",
    "            for m, vals in metrics.items():\n",
    "                vals = vals[:50]\n",
    "                if m.lower() == \"gdi\":\n",
    "                    ax2 = ax.twinx()\n",
    "                    ax2.plot(range(len(vals)), vals, 'r')\n",
    "                    ax2.set_ylabel(m)\n",
    "                    ax2.legend([\"GDI\"], loc=5)\n",
    "                else:\n",
    "                    ax.plot(range(len(vals)), vals)\n",
    "                    legend.append(m.split()[-1])\n",
    "            ax.set_xlabel(\"t\")\n",
    "            ax.set_ylabel(\"NDI\")\n",
    "            ax.legend(legend)"
   ]
  },
  {
   "cell_type": "code",
   "execution_count": null,
   "metadata": {
    "scrolled": false
   },
   "outputs": [],
   "source": [
    "plot_results(results)"
   ]
  }
 ],
 "metadata": {
  "kernelspec": {
   "display_name": "Python 2",
   "language": "python",
   "name": "python2"
  },
  "language_info": {
   "codemirror_mode": {
    "name": "ipython",
    "version": 2
   },
   "file_extension": ".py",
   "mimetype": "text/x-python",
   "name": "python",
   "nbconvert_exporter": "python",
   "pygments_lexer": "ipython2",
   "version": "2.7.15rc1"
  }
 },
 "nbformat": 4,
 "nbformat_minor": 2
}
