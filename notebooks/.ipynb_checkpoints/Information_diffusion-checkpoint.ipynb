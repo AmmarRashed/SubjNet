{
 "cells": [
  {
   "cell_type": "code",
   "execution_count": 1,
   "metadata": {},
   "outputs": [],
   "source": [
    "import sys\n",
    "sys.path.append(\"../src\")\n",
    "\n",
    "from Utils import *"
   ]
  },
  {
   "cell_type": "markdown",
   "metadata": {},
   "source": [
    "### Future work:\n",
    "- Construct the network for a single subreddit\n",
    "- Analyze the propagation of \"polarity\""
   ]
  },
  {
   "cell_type": "code",
   "execution_count": 2,
   "metadata": {},
   "outputs": [],
   "source": [
    "with open('../snaps/reddit.json', 'r') as f:\n",
    "    data = json.load(f)\n",
    "    nxg = json_graph.node_link_graph(data, directed=True)"
   ]
  },
  {
   "cell_type": "code",
   "execution_count": null,
   "metadata": {},
   "outputs": [],
   "source": [
    "results = information_diffusion(nxg, 0.01, 10, \"bgr\")\n",
    "plot_stubbornness(results, 0, 1, \"GDI\")\n",
    "plot_stubbornness(results, 2, 3, \"NDI Jac\")\n",
    "plot_stubbornness(results, 4, 5, \"NDI BGR\")"
   ]
  },
  {
   "cell_type": "code",
   "execution_count": null,
   "metadata": {},
   "outputs": [],
   "source": [
    "results = information_diffusion(nxg, 0.01, 10, \"jac\")\n",
    "plot_stubbornness(results, 0, 1, \"GDI\")\n",
    "plot_stubbornness(results, 2, 3, \"NDI Jac\")\n",
    "plot_stubbornness(results, 4, 5, \"NDI BGR\")"
   ]
  }
 ],
 "metadata": {
  "kernelspec": {
   "display_name": "Python 2",
   "language": "python",
   "name": "python2"
  },
  "language_info": {
   "codemirror_mode": {
    "name": "ipython",
    "version": 2
   },
   "file_extension": ".py",
   "mimetype": "text/x-python",
   "name": "python",
   "nbconvert_exporter": "python",
   "pygments_lexer": "ipython2",
   "version": "2.7.15rc1"
  }
 },
 "nbformat": 4,
 "nbformat_minor": 2
}
