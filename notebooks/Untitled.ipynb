{
 "cells": [
  {
   "cell_type": "code",
   "execution_count": null,
   "metadata": {},
   "outputs": [],
   "source": [
    "import sys\n",
    "sys.path.append(\"../src\")\n",
    "from Utils import *"
   ]
  },
  {
   "cell_type": "code",
   "execution_count": null,
   "metadata": {},
   "outputs": [],
   "source": [
    "# rnu = RedditNetworkUtils()\n",
    "# rnu.read_comments_into_network(\"../data/RC_2013-02\", \"link_id\", \"parent_id\", maxsize=1e3,\n",
    "#                                calculate_users_similarity=True)"
   ]
  },
  {
   "cell_type": "code",
   "execution_count": null,
   "metadata": {},
   "outputs": [],
   "source": [
    "links_authors = map_linkid_to_authors(\"../data/RC_2013-02\", \"author\", \"link_id\", 1e6)"
   ]
  },
  {
   "cell_type": "code",
   "execution_count": null,
   "metadata": {},
   "outputs": [],
   "source": [
    "len(links_authors)"
   ]
  },
  {
   "cell_type": "code",
   "execution_count": null,
   "metadata": {},
   "outputs": [],
   "source": [
    "def map_linkid_to_authors(filename, node_key, link_key, maxsize):\n",
    "    ids = dict()  # {id: author}\n",
    "    with open(filename) as f:\n",
    "        for i, line in enumerate(f):\n",
    "            if i == maxsize:\n",
    "                break\n",
    "            comment = json.loads(line)\n",
    "            if comment[node_key] == \"[deleted]\":\n",
    "                continue\n",
    "            ids[comment[link_key]] = comment[node_key]\n",
    "    return ids"
   ]
  },
  {
   "cell_type": "code",
   "execution_count": null,
   "metadata": {},
   "outputs": [],
   "source": [
    "links_authors = map_linkid_to_authors(\"../data/RC_2013-02\", \"author\", \"link_id\", 1e7)"
   ]
  },
  {
   "cell_type": "code",
   "execution_count": null,
   "metadata": {},
   "outputs": [],
   "source": [
    "len(links_authors)"
   ]
  },
  {
   "cell_type": "code",
   "execution_count": null,
   "metadata": {},
   "outputs": [],
   "source": [
    "with open(\"../data/RC_2013-02\") as f:\n",
    "    for i, l in enumerate(f):\n",
    "        if i == 1e3: break\n",
    "        comment = json.loads(l)\n",
    "        if comment[\"parent_id\"] != comment[\"link_id\"]:\n",
    "            try:\n",
    "                print(links_authors[comment[\"parent_id\"]])\n",
    "            except KeyError:continue"
   ]
  },
  {
   "cell_type": "code",
   "execution_count": null,
   "metadata": {},
   "outputs": [],
   "source": []
  }
 ],
 "metadata": {
  "kernelspec": {
   "display_name": "Python 3",
   "language": "python",
   "name": "python3"
  },
  "language_info": {
   "codemirror_mode": {
    "name": "ipython",
    "version": 2
   },
   "file_extension": ".py",
   "mimetype": "text/x-python",
   "name": "python",
   "nbconvert_exporter": "python",
   "pygments_lexer": "ipython2",
   "version": "2.7.15rc1"
  }
 },
 "nbformat": 4,
 "nbformat_minor": 2
}
