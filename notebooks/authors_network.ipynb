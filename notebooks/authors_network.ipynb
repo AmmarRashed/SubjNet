{
 "cells": [
  {
   "cell_type": "code",
   "execution_count": 1,
   "metadata": {},
   "outputs": [],
   "source": [
    "import sys\n",
    "sys.path.append(\"../src\")"
   ]
  },
  {
   "cell_type": "code",
   "execution_count": 2,
   "metadata": {},
   "outputs": [],
   "source": [
    "from IPython.display import display, HTML\n",
    "from Utils import *"
   ]
  },
  {
   "cell_type": "code",
   "execution_count": 3,
   "metadata": {},
   "outputs": [
    {
     "name": "stdout",
     "output_type": "stream",
     "text": [
      "Users (nodes): 979\n",
      "Subreddits: 1010\n",
      "Edges: 831\n"
     ]
    }
   ],
   "source": [
    "rnu = RedditNetworkUtils()\n",
    "rnu.read_comments_into_network(\"../data/RC_2013-02\", \"link_id\", \"parent_id\", maxsize=5e3,\n",
    "                               calculate_users_similarity=True)"
   ]
  },
  {
   "cell_type": "code",
   "execution_count": 4,
   "metadata": {},
   "outputs": [
    {
     "name": "stdout",
     "output_type": "stream",
     "text": [
      "('polarity', 0)\n",
      "('closeness_centrality', 0.0010224948875255625)\n",
      "('w_outdeg', 0)\n",
      "('w_indeg', 1)\n",
      "('betweenness', 0.0)\n",
      "('w_deg', 1)\n",
      "('indeg', 1)\n",
      "('subjectivity', 0)\n",
      "('w_betweenness', 0.0)\n",
      "('outdeg', 0)\n",
      "('deg', 1)\n"
     ]
    }
   ],
   "source": [
    "for n, data in rnu.ntw.nodes(data=True):\n",
    "    for k,v in data.items():\n",
    "        print(k,v)\n",
    "    break"
   ]
  }
 ],
 "metadata": {
  "kernelspec": {
   "display_name": "Python 2",
   "language": "python",
   "name": "python2"
  },
  "language_info": {
   "codemirror_mode": {
    "name": "ipython",
    "version": 2
   },
   "file_extension": ".py",
   "mimetype": "text/x-python",
   "name": "python",
   "nbconvert_exporter": "python",
   "pygments_lexer": "ipython2",
   "version": "2.7.15rc1"
  }
 },
 "nbformat": 4,
 "nbformat_minor": 2
}
